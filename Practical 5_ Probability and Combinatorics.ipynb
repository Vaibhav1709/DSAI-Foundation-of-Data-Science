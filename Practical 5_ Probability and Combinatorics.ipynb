{
 "cells": [
  {
   "cell_type": "markdown",
   "id": "8ad8694b",
   "metadata": {},
   "source": [
    "# Probability"
   ]
  },
  {
   "cell_type": "code",
   "execution_count": 1,
   "id": "31f72fe3",
   "metadata": {},
   "outputs": [
    {
     "name": "stdout",
     "output_type": "stream",
     "text": [
      "Probability of getting a 3 is: 0.16666666666666666\n"
     ]
    }
   ],
   "source": [
    "# probabitlity of getting a 3 from a roll of die\n",
    "ns = 6 #n(S)= {1,2,3,4,5,6}\n",
    "na = 1 # n(A) = {1}\n",
    "pa = na/ns  #P(A)\n",
    "print(\"Probability of getting a 3 is:\", pa)\n"
   ]
  },
  {
   "cell_type": "code",
   "execution_count": 2,
   "id": "2d427c18",
   "metadata": {},
   "outputs": [
    {
     "name": "stdout",
     "output_type": "stream",
     "text": [
      "probability of getting atlrast one head is: 0.875\n"
     ]
    }
   ],
   "source": [
    "ns = 8 #n(S)={HHH,HHT,HTH,THH,TTH,THT,HTT,TTT}\n",
    "na = 7 #n(A)={HHH,HHT,HTH,THH,TTH,THT,HTT}\n",
    "pa = na/ns #P(A)\n",
    "print(\"probability of getting atlrast one head is:\",pa)"
   ]
  },
  {
   "cell_type": "code",
   "execution_count": 3,
   "id": "651ba9fd",
   "metadata": {},
   "outputs": [
    {
     "name": "stdout",
     "output_type": "stream",
     "text": [
      "probability of not getting a blue jellybean is: 0.7\n"
     ]
    }
   ],
   "source": [
    "# A jar contains 5 red, 3 blue, 2 green jellybeans. IF a jellybean is chosen at random what is the probability it is not blue\n",
    "ns = 10 #n(S)-{5red,3blue,2green}\n",
    "na = 7#n(A)={5 red,2 green}\n",
    "pa = na/ns #P(A)\n",
    "print(\"probability of not getting a blue jellybean is:\",pa)"
   ]
  },
  {
   "cell_type": "code",
   "execution_count": 4,
   "id": "47d22c65",
   "metadata": {},
   "outputs": [
    {
     "name": "stdout",
     "output_type": "stream",
     "text": [
      "probability that they will be alive for next 20 years is: 0.35\n"
     ]
    }
   ],
   "source": [
    "# If the probability that person A will alive in 20 years is 0.7 and the probability that person \n",
    "# B will be alive in the next 20 years is 0.5 , ehat is the probability that they both will bw alive for the next 20 years is ?\n",
    "P = 0.7*0.5\n",
    "print(\"probability that they will be alive for next 20 years is:\",P)"
   ]
  },
  {
   "cell_type": "code",
   "execution_count": 5,
   "id": "c3d94a51",
   "metadata": {},
   "outputs": [],
   "source": [
    "def event_probability(n,s):\n",
    "    return n/s"
   ]
  },
  {
   "cell_type": "code",
   "execution_count": 6,
   "id": "d1a3331b",
   "metadata": {},
   "outputs": [
    {
     "name": "stdout",
     "output_type": "stream",
     "text": [
      "probability of getting a 4 or a 5 in the first toss and a 1,2,3 on the second toss: 0.16666666666666666\n"
     ]
    }
   ],
   "source": [
    "# A fair die is tossed twice . Find the probability of getting a 4 or a 5 in the first toss and a 1,2,3 on the second toss .\n",
    "pa = event_probability(2,6) # for getting a 4 or 5\n",
    "pb = event_probability(3,6) # for getting 1,2,3\n",
    "P = pa*pb\n",
    "print(\"probability of getting a 4 or a 5 in the first toss and a 1,2,3 on the second toss:\",P)"
   ]
  },
  {
   "cell_type": "code",
   "execution_count": 7,
   "id": "196de54d",
   "metadata": {},
   "outputs": [
    {
     "name": "stdout",
     "output_type": "stream",
     "text": [
      "the probability if getting a white , black and green in that order:\n"
     ]
    }
   ],
   "source": [
    "# A bag contains 5 white marbles, 3 black marbles and 2 green marbles. In each draw , a marble is drawn and not replaced .\n",
    "#In three draws find the probability of getting a white , black and green in that order \n",
    "pw = event_probability(5,10)\n",
    "pb = event_probability(3,9)\n",
    "pg = event_probability(2,8)\n",
    "print(\"the probability if getting a white , black and green in that order:\")\n"
   ]
  },
  {
   "cell_type": "code",
   "execution_count": 8,
   "id": "4c0c3021",
   "metadata": {},
   "outputs": [
    {
     "name": "stdout",
     "output_type": "stream",
     "text": [
      "0.5\n"
     ]
    }
   ],
   "source": [
    "#Sample Space\n",
    "cards = 52\n",
    "#Calculate the probability of getting a hearts or a club\n",
    "hearts = 13\n",
    "clubs = 13\n",
    "heart_or_club = event_probability(hearts , cards) + event_probability(clubs , cards)\n",
    "print(heart_or_club)"
   ]
  },
  {
   "cell_type": "code",
   "execution_count": 9,
   "id": "5b20a190",
   "metadata": {},
   "outputs": [
    {
     "name": "stdout",
     "output_type": "stream",
     "text": [
      "0.23076923076923078\n"
     ]
    }
   ],
   "source": [
    "#Calculate the probability of drawing an ace,king or a queen \n",
    "aces = 4\n",
    "kings = 4\n",
    "queens = 4\n",
    "ace_king_queen =  event_probability(aces , cards) +  event_probability(kings , cards) +  event_probability(queens , cards)\n",
    "print(ace_king_queen)"
   ]
  },
  {
   "cell_type": "code",
   "execution_count": 10,
   "id": "818f3c81",
   "metadata": {},
   "outputs": [
    {
     "name": "stdout",
     "output_type": "stream",
     "text": [
      "0.3\n"
     ]
    }
   ],
   "source": [
    "#12th code # Calculate the Probability of drawing a heart or an ace\n",
    "hearts = 13\n",
    "aces = 4\n",
    "ace_of_hearts = 1\n",
    "hearts_or_aces = event_probability(hearts,cards) + event_probability(aces, cards)- event_probability(ace_of_hearts, cards)\n",
    "print(round(hearts_or_aces,1))"
   ]
  },
  {
   "cell_type": "code",
   "execution_count": 11,
   "id": "cdb41fc1",
   "metadata": {},
   "outputs": [
    {
     "name": "stdout",
     "output_type": "stream",
     "text": [
      "0.6\n"
     ]
    }
   ],
   "source": [
    "#calculate the probability of drawing red cards or face cards \n",
    "red_cards = 26 \n",
    "face_cards = 12\n",
    "red_face_cards = 6\n",
    "red_or_face = event_probability(red_cards , cards) + event_probability(face_cards , cards) - event_probability(red_face_cards , cards)\n",
    "print(round(red_or_face,1))"
   ]
  },
  {
   "cell_type": "markdown",
   "id": "c416b2bf",
   "metadata": {},
   "source": [
    "#  Complimentary Events"
   ]
  },
  {
   "cell_type": "code",
   "execution_count": 12,
   "id": "5e8b43fc",
   "metadata": {},
   "outputs": [
    {
     "name": "stdout",
     "output_type": "stream",
     "text": [
      "Probability of not getting a 5 is: 0.8333333333333334\n"
     ]
    }
   ],
   "source": [
    "# probability of not getting a 5 when a fair die is rolled\n",
    "ns = 6 #n(S)={1,2,3,4,5,6}\n",
    "na = 1 #n(A)={5}\n",
    "pa = na/ns\n",
    "print(\"Probability of not getting a 5 is:\",1-pa)"
   ]
  },
  {
   "cell_type": "markdown",
   "id": "34c12458",
   "metadata": {},
   "source": [
    "# conditional probability"
   ]
  },
  {
   "cell_type": "code",
   "execution_count": 13,
   "id": "de5dda0d",
   "metadata": {},
   "outputs": [
    {
     "data": {
      "text/html": [
       "<div>\n",
       "<style scoped>\n",
       "    .dataframe tbody tr th:only-of-type {\n",
       "        vertical-align: middle;\n",
       "    }\n",
       "\n",
       "    .dataframe tbody tr th {\n",
       "        vertical-align: top;\n",
       "    }\n",
       "\n",
       "    .dataframe thead th {\n",
       "        text-align: right;\n",
       "    }\n",
       "</style>\n",
       "<table border=\"1\" class=\"dataframe\">\n",
       "  <thead>\n",
       "    <tr style=\"text-align: right;\">\n",
       "      <th></th>\n",
       "      <th>school</th>\n",
       "      <th>sex</th>\n",
       "      <th>age</th>\n",
       "      <th>address</th>\n",
       "      <th>famsize</th>\n",
       "      <th>Pstatus</th>\n",
       "      <th>Medu</th>\n",
       "      <th>Fedu</th>\n",
       "      <th>Mjob</th>\n",
       "      <th>Fjob</th>\n",
       "      <th>...</th>\n",
       "      <th>famrel</th>\n",
       "      <th>freetime</th>\n",
       "      <th>goout</th>\n",
       "      <th>Dalc</th>\n",
       "      <th>Walc</th>\n",
       "      <th>health</th>\n",
       "      <th>absences</th>\n",
       "      <th>G1</th>\n",
       "      <th>G2</th>\n",
       "      <th>G3</th>\n",
       "    </tr>\n",
       "  </thead>\n",
       "  <tbody>\n",
       "    <tr>\n",
       "      <th>0</th>\n",
       "      <td>GP</td>\n",
       "      <td>F</td>\n",
       "      <td>18</td>\n",
       "      <td>U</td>\n",
       "      <td>GT3</td>\n",
       "      <td>A</td>\n",
       "      <td>4</td>\n",
       "      <td>4</td>\n",
       "      <td>at_home</td>\n",
       "      <td>teacher</td>\n",
       "      <td>...</td>\n",
       "      <td>4</td>\n",
       "      <td>3</td>\n",
       "      <td>4</td>\n",
       "      <td>1</td>\n",
       "      <td>1</td>\n",
       "      <td>3</td>\n",
       "      <td>6</td>\n",
       "      <td>5</td>\n",
       "      <td>6</td>\n",
       "      <td>6</td>\n",
       "    </tr>\n",
       "    <tr>\n",
       "      <th>1</th>\n",
       "      <td>GP</td>\n",
       "      <td>F</td>\n",
       "      <td>17</td>\n",
       "      <td>U</td>\n",
       "      <td>GT3</td>\n",
       "      <td>T</td>\n",
       "      <td>1</td>\n",
       "      <td>1</td>\n",
       "      <td>at_home</td>\n",
       "      <td>other</td>\n",
       "      <td>...</td>\n",
       "      <td>5</td>\n",
       "      <td>3</td>\n",
       "      <td>3</td>\n",
       "      <td>1</td>\n",
       "      <td>1</td>\n",
       "      <td>3</td>\n",
       "      <td>4</td>\n",
       "      <td>5</td>\n",
       "      <td>5</td>\n",
       "      <td>6</td>\n",
       "    </tr>\n",
       "    <tr>\n",
       "      <th>2</th>\n",
       "      <td>GP</td>\n",
       "      <td>F</td>\n",
       "      <td>15</td>\n",
       "      <td>U</td>\n",
       "      <td>LE3</td>\n",
       "      <td>T</td>\n",
       "      <td>1</td>\n",
       "      <td>1</td>\n",
       "      <td>at_home</td>\n",
       "      <td>other</td>\n",
       "      <td>...</td>\n",
       "      <td>4</td>\n",
       "      <td>3</td>\n",
       "      <td>2</td>\n",
       "      <td>2</td>\n",
       "      <td>3</td>\n",
       "      <td>3</td>\n",
       "      <td>10</td>\n",
       "      <td>7</td>\n",
       "      <td>8</td>\n",
       "      <td>10</td>\n",
       "    </tr>\n",
       "  </tbody>\n",
       "</table>\n",
       "<p>3 rows × 33 columns</p>\n",
       "</div>"
      ],
      "text/plain": [
       "  school sex  age address famsize Pstatus  Medu  Fedu     Mjob     Fjob  ...  \\\n",
       "0     GP   F   18       U     GT3       A     4     4  at_home  teacher  ...   \n",
       "1     GP   F   17       U     GT3       T     1     1  at_home    other  ...   \n",
       "2     GP   F   15       U     LE3       T     1     1  at_home    other  ...   \n",
       "\n",
       "  famrel freetime  goout  Dalc  Walc health absences G1 G2  G3  \n",
       "0      4        3      4     1     1      3        6  5  6   6  \n",
       "1      5        3      3     1     1      3        4  5  5   6  \n",
       "2      4        3      2     2     3      3       10  7  8  10  \n",
       "\n",
       "[3 rows x 33 columns]"
      ]
     },
     "execution_count": 13,
     "metadata": {},
     "output_type": "execute_result"
    }
   ],
   "source": [
    "import pandas as pd\n",
    "import numpy as np\n",
    "df = pd.read_csv(\"E:/Python/Anita Maam/student-mat.csv\")\n",
    "df.head(3)"
   ]
  },
  {
   "cell_type": "code",
   "execution_count": 14,
   "id": "6fc8d42a",
   "metadata": {},
   "outputs": [
    {
     "data": {
      "text/plain": [
       "395"
      ]
     },
     "execution_count": 14,
     "metadata": {},
     "output_type": "execute_result"
    }
   ],
   "source": [
    "len(df)"
   ]
  },
  {
   "cell_type": "code",
   "execution_count": 15,
   "id": "bcff3809",
   "metadata": {},
   "outputs": [],
   "source": [
    "df['grade_A'] = np.where(df['G3']*5 >= 80,1,0)"
   ]
  },
  {
   "cell_type": "code",
   "execution_count": 16,
   "id": "fc9c210e",
   "metadata": {},
   "outputs": [],
   "source": [
    "df['high_absences'] = np.where(df['absences'] >= 10,1,0)"
   ]
  },
  {
   "cell_type": "code",
   "execution_count": 17,
   "id": "72ea5137",
   "metadata": {},
   "outputs": [
    {
     "data": {
      "text/html": [
       "<div>\n",
       "<style scoped>\n",
       "    .dataframe tbody tr th:only-of-type {\n",
       "        vertical-align: middle;\n",
       "    }\n",
       "\n",
       "    .dataframe tbody tr th {\n",
       "        vertical-align: top;\n",
       "    }\n",
       "\n",
       "    .dataframe thead th {\n",
       "        text-align: right;\n",
       "    }\n",
       "</style>\n",
       "<table border=\"1\" class=\"dataframe\">\n",
       "  <thead>\n",
       "    <tr style=\"text-align: right;\">\n",
       "      <th></th>\n",
       "      <th>school</th>\n",
       "      <th>sex</th>\n",
       "      <th>age</th>\n",
       "      <th>address</th>\n",
       "      <th>famsize</th>\n",
       "      <th>Pstatus</th>\n",
       "      <th>Medu</th>\n",
       "      <th>Fedu</th>\n",
       "      <th>Mjob</th>\n",
       "      <th>Fjob</th>\n",
       "      <th>...</th>\n",
       "      <th>goout</th>\n",
       "      <th>Dalc</th>\n",
       "      <th>Walc</th>\n",
       "      <th>health</th>\n",
       "      <th>absences</th>\n",
       "      <th>G1</th>\n",
       "      <th>G2</th>\n",
       "      <th>G3</th>\n",
       "      <th>grade_A</th>\n",
       "      <th>high_absences</th>\n",
       "    </tr>\n",
       "  </thead>\n",
       "  <tbody>\n",
       "    <tr>\n",
       "      <th>0</th>\n",
       "      <td>GP</td>\n",
       "      <td>F</td>\n",
       "      <td>18</td>\n",
       "      <td>U</td>\n",
       "      <td>GT3</td>\n",
       "      <td>A</td>\n",
       "      <td>4</td>\n",
       "      <td>4</td>\n",
       "      <td>at_home</td>\n",
       "      <td>teacher</td>\n",
       "      <td>...</td>\n",
       "      <td>4</td>\n",
       "      <td>1</td>\n",
       "      <td>1</td>\n",
       "      <td>3</td>\n",
       "      <td>6</td>\n",
       "      <td>5</td>\n",
       "      <td>6</td>\n",
       "      <td>6</td>\n",
       "      <td>0</td>\n",
       "      <td>0</td>\n",
       "    </tr>\n",
       "    <tr>\n",
       "      <th>1</th>\n",
       "      <td>GP</td>\n",
       "      <td>F</td>\n",
       "      <td>17</td>\n",
       "      <td>U</td>\n",
       "      <td>GT3</td>\n",
       "      <td>T</td>\n",
       "      <td>1</td>\n",
       "      <td>1</td>\n",
       "      <td>at_home</td>\n",
       "      <td>other</td>\n",
       "      <td>...</td>\n",
       "      <td>3</td>\n",
       "      <td>1</td>\n",
       "      <td>1</td>\n",
       "      <td>3</td>\n",
       "      <td>4</td>\n",
       "      <td>5</td>\n",
       "      <td>5</td>\n",
       "      <td>6</td>\n",
       "      <td>0</td>\n",
       "      <td>0</td>\n",
       "    </tr>\n",
       "    <tr>\n",
       "      <th>2</th>\n",
       "      <td>GP</td>\n",
       "      <td>F</td>\n",
       "      <td>15</td>\n",
       "      <td>U</td>\n",
       "      <td>LE3</td>\n",
       "      <td>T</td>\n",
       "      <td>1</td>\n",
       "      <td>1</td>\n",
       "      <td>at_home</td>\n",
       "      <td>other</td>\n",
       "      <td>...</td>\n",
       "      <td>2</td>\n",
       "      <td>2</td>\n",
       "      <td>3</td>\n",
       "      <td>3</td>\n",
       "      <td>10</td>\n",
       "      <td>7</td>\n",
       "      <td>8</td>\n",
       "      <td>10</td>\n",
       "      <td>0</td>\n",
       "      <td>1</td>\n",
       "    </tr>\n",
       "  </tbody>\n",
       "</table>\n",
       "<p>3 rows × 35 columns</p>\n",
       "</div>"
      ],
      "text/plain": [
       "  school sex  age address famsize Pstatus  Medu  Fedu     Mjob     Fjob  ...  \\\n",
       "0     GP   F   18       U     GT3       A     4     4  at_home  teacher  ...   \n",
       "1     GP   F   17       U     GT3       T     1     1  at_home    other  ...   \n",
       "2     GP   F   15       U     LE3       T     1     1  at_home    other  ...   \n",
       "\n",
       "  goout Dalc  Walc  health  absences G1 G2  G3 grade_A high_absences  \n",
       "0     4    1     1       3         6  5  6   6       0             0  \n",
       "1     3    1     1       3         4  5  5   6       0             0  \n",
       "2     2    2     3       3        10  7  8  10       0             1  \n",
       "\n",
       "[3 rows x 35 columns]"
      ]
     },
     "execution_count": 17,
     "metadata": {},
     "output_type": "execute_result"
    }
   ],
   "source": [
    "df.head(3)"
   ]
  },
  {
   "cell_type": "markdown",
   "id": "2603ef9c",
   "metadata": {},
   "source": [
    "add one more column to make building a pivot table "
   ]
  },
  {
   "cell_type": "code",
   "execution_count": 18,
   "id": "c574f9cd",
   "metadata": {},
   "outputs": [],
   "source": [
    "df['count']=1"
   ]
  },
  {
   "cell_type": "markdown",
   "id": "83f4bb9c",
   "metadata": {},
   "source": [
    "and drop all the columns we don't care about"
   ]
  },
  {
   "cell_type": "code",
   "execution_count": 19,
   "id": "3a641e2c",
   "metadata": {},
   "outputs": [
    {
     "data": {
      "text/html": [
       "<div>\n",
       "<style scoped>\n",
       "    .dataframe tbody tr th:only-of-type {\n",
       "        vertical-align: middle;\n",
       "    }\n",
       "\n",
       "    .dataframe tbody tr th {\n",
       "        vertical-align: top;\n",
       "    }\n",
       "\n",
       "    .dataframe thead th {\n",
       "        text-align: right;\n",
       "    }\n",
       "</style>\n",
       "<table border=\"1\" class=\"dataframe\">\n",
       "  <thead>\n",
       "    <tr style=\"text-align: right;\">\n",
       "      <th></th>\n",
       "      <th>grade_A</th>\n",
       "      <th>high_absences</th>\n",
       "      <th>count</th>\n",
       "    </tr>\n",
       "  </thead>\n",
       "  <tbody>\n",
       "    <tr>\n",
       "      <th>0</th>\n",
       "      <td>0</td>\n",
       "      <td>0</td>\n",
       "      <td>1</td>\n",
       "    </tr>\n",
       "    <tr>\n",
       "      <th>1</th>\n",
       "      <td>0</td>\n",
       "      <td>0</td>\n",
       "      <td>1</td>\n",
       "    </tr>\n",
       "    <tr>\n",
       "      <th>2</th>\n",
       "      <td>0</td>\n",
       "      <td>1</td>\n",
       "      <td>1</td>\n",
       "    </tr>\n",
       "    <tr>\n",
       "      <th>3</th>\n",
       "      <td>0</td>\n",
       "      <td>0</td>\n",
       "      <td>1</td>\n",
       "    </tr>\n",
       "    <tr>\n",
       "      <th>4</th>\n",
       "      <td>0</td>\n",
       "      <td>0</td>\n",
       "      <td>1</td>\n",
       "    </tr>\n",
       "  </tbody>\n",
       "</table>\n",
       "</div>"
      ],
      "text/plain": [
       "   grade_A  high_absences  count\n",
       "0        0              0      1\n",
       "1        0              0      1\n",
       "2        0              1      1\n",
       "3        0              0      1\n",
       "4        0              0      1"
      ]
     },
     "execution_count": 19,
     "metadata": {},
     "output_type": "execute_result"
    }
   ],
   "source": [
    "df = df[['grade_A','high_absences','count']]\n",
    "df.head()"
   ]
  },
  {
   "cell_type": "code",
   "execution_count": 20,
   "id": "9cef65d4",
   "metadata": {},
   "outputs": [],
   "source": [
    "final = pd.pivot_table(\n",
    "    df,\n",
    "    values='count',\n",
    "    index=['grade_A'],\n",
    "    columns=['high_absences'],\n",
    "    aggfunc=np.size,\n",
    "    fill_value=0\n",
    ")"
   ]
  },
  {
   "cell_type": "code",
   "execution_count": 21,
   "id": "fc6e63f4",
   "metadata": {},
   "outputs": [
    {
     "name": "stdout",
     "output_type": "stream",
     "text": [
      "high_absences    0   1\n",
      "grade_A               \n",
      "0              277  78\n",
      "1               35   5\n"
     ]
    }
   ],
   "source": [
    "print(final)"
   ]
  },
  {
   "cell_type": "markdown",
   "id": "2af3cfbc",
   "metadata": {},
   "source": [
    "Calculate the probability that a student will get grade A given that he misses 10 or more classes\n",
    "\n",
    "we now have all the data we neeed to do our calculation. Let's start by calculating each individual part in the formula. In our case: P(A) is the probsbility of a grade 80% or higher. P(B) is the probability of missing 10 or more classes. P(A|B) is the probability of a 80%+ grade, given missing 10 or more classes\n",
    "\n",
    "P(A)=(35+5)/(277+78+35+5) = 0.1012658 P(B)=(78+5)/(277+78+35+5) = 0.210 P(A or B) = 5/(277+78+35+5) = 0.0126\n",
    "\n",
    "P(A|B) = P(A or B) / P(B) = 0.060\n",
    "\n",
    "the probability that a student will get grade A given that he misses 10 or more classes is 6%"
   ]
  },
  {
   "cell_type": "code",
   "execution_count": 22,
   "id": "a56310c9",
   "metadata": {},
   "outputs": [
    {
     "name": "stdout",
     "output_type": "stream",
     "text": [
      "P(A/B)= 6.024%\n"
     ]
    }
   ],
   "source": [
    "def prob(p_a, p_b, p_a_or_b) :\n",
    "   \n",
    "    \n",
    "    p_a_given_b  =  p_a_or_b / p_b\n",
    "    \n",
    "    return p_a_given_b\n",
    "p_a        = (35+5) / (277+35+78+5)\n",
    "p_b        = (78+5) / (277+35+78+5)\n",
    "p_a_or_b   =  (5) / (277+35+78+5)\n",
    "    \n",
    "    \n",
    "result  = prob(p_a, p_b, p_a_or_b)\n",
    "\n",
    "print('P(A/B)= %.3f%%' %(result * 100))"
   ]
  },
  {
   "cell_type": "markdown",
   "id": "b50f2838",
   "metadata": {},
   "source": [
    "# Combinatorics: Permutations, Variation & Combinations"
   ]
  },
  {
   "cell_type": "markdown",
   "id": "981de6f2",
   "metadata": {},
   "source": [
    "For 2 Balls:"
   ]
  },
  {
   "cell_type": "code",
   "execution_count": 33,
   "id": "2d0a397a",
   "metadata": {},
   "outputs": [
    {
     "data": {
      "text/plain": [
       "[('g', 'g'), ('g', 'b'), ('b', 'g'), ('b', 'b')]"
      ]
     },
     "execution_count": 33,
     "metadata": {},
     "output_type": "execute_result"
    }
   ],
   "source": [
    "# permutation of green and blue with repetition\n",
    "import itertools\n",
    "from itertools import product\n",
    "box_1 = ['g','b']\n",
    "perm=[]\n",
    "for p in itertools.product(box_1, repeat=2):\n",
    "    perm.append(p)\n",
    "    \n",
    "perm"
   ]
  },
  {
   "cell_type": "markdown",
   "id": "65bb8d5d",
   "metadata": {},
   "source": [
    "For 3 balls instead:"
   ]
  },
  {
   "cell_type": "code",
   "execution_count": 34,
   "id": "d73c22b1",
   "metadata": {},
   "outputs": [
    {
     "data": {
      "text/plain": [
       "[('r', 'r', 'r'),\n",
       " ('r', 'r', 'b'),\n",
       " ('r', 'r', 'y'),\n",
       " ('r', 'b', 'r'),\n",
       " ('r', 'b', 'b'),\n",
       " ('r', 'b', 'y'),\n",
       " ('r', 'y', 'r'),\n",
       " ('r', 'y', 'b'),\n",
       " ('r', 'y', 'y'),\n",
       " ('b', 'r', 'r'),\n",
       " ('b', 'r', 'b'),\n",
       " ('b', 'r', 'y'),\n",
       " ('b', 'b', 'r'),\n",
       " ('b', 'b', 'b'),\n",
       " ('b', 'b', 'y'),\n",
       " ('b', 'y', 'r'),\n",
       " ('b', 'y', 'b'),\n",
       " ('b', 'y', 'y'),\n",
       " ('y', 'r', 'r'),\n",
       " ('y', 'r', 'b'),\n",
       " ('y', 'r', 'y'),\n",
       " ('y', 'b', 'r'),\n",
       " ('y', 'b', 'b'),\n",
       " ('y', 'b', 'y'),\n",
       " ('y', 'y', 'r'),\n",
       " ('y', 'y', 'b'),\n",
       " ('y', 'y', 'y')]"
      ]
     },
     "execution_count": 34,
     "metadata": {},
     "output_type": "execute_result"
    }
   ],
   "source": [
    "#permutation of green, blue and yellow with repetition.\n",
    "import itertools\n",
    "from itertools import product\n",
    "box_2 = ['r','b','y']\n",
    "perm=[]\n",
    "for p in itertools.product(box_2, repeat=3):\n",
    "    perm.append(p)\n",
    "    \n",
    "perm"
   ]
  },
  {
   "cell_type": "markdown",
   "id": "7252b4e1",
   "metadata": {},
   "source": [
    "Permutation without repetition: 123.....n=n!"
   ]
  },
  {
   "cell_type": "markdown",
   "id": "d1e4678a",
   "metadata": {},
   "source": [
    "Permutation without repetation:\n",
    "2 elements"
   ]
  },
  {
   "cell_type": "code",
   "execution_count": 35,
   "id": "46df029d",
   "metadata": {},
   "outputs": [
    {
     "name": "stdout",
     "output_type": "stream",
     "text": [
      "('g', 'b')\n",
      "('b', 'g')\n"
     ]
    }
   ],
   "source": [
    "# permutation of green and blue without repetition.\n",
    "import itertools\n",
    "\n",
    "box_1 = ['g','b']\n",
    "perm = itertools.permutations(box_1)\n",
    "\n",
    "for i in list(perm):\n",
    "    print(i)"
   ]
  },
  {
   "cell_type": "markdown",
   "id": "cab85426",
   "metadata": {},
   "source": [
    "Permutation without repetation:\n",
    "3 elements"
   ]
  },
  {
   "cell_type": "code",
   "execution_count": 36,
   "id": "a15650ca",
   "metadata": {},
   "outputs": [
    {
     "name": "stdout",
     "output_type": "stream",
     "text": [
      "('g', 'b', 'y')\n",
      "('g', 'y', 'b')\n",
      "('b', 'g', 'y')\n",
      "('b', 'y', 'g')\n",
      "('y', 'g', 'b')\n",
      "('y', 'b', 'g')\n"
     ]
    }
   ],
   "source": [
    "# permutation of green,blue and yellow without repetition.\n",
    "import itertools\n",
    "\n",
    "box_1 = ['g','b','y']\n",
    "perm = itertools.permutations(box_1)\n",
    "\n",
    "for i in list(perm):\n",
    "    print(i)"
   ]
  },
  {
   "cell_type": "markdown",
   "id": "2865dca9",
   "metadata": {},
   "source": [
    "Variation with repetion = n^k without repetion : n!/(n-k)!\n",
    "\n",
    "Variattion without repetion : n!/(n-k)!"
   ]
  },
  {
   "cell_type": "code",
   "execution_count": 37,
   "id": "696cb0d7",
   "metadata": {},
   "outputs": [
    {
     "data": {
      "text/plain": [
       "[('g', 'g'),\n",
       " ('g', 'b'),\n",
       " ('g', 'y'),\n",
       " ('b', 'g'),\n",
       " ('b', 'b'),\n",
       " ('b', 'y'),\n",
       " ('y', 'g'),\n",
       " ('y', 'b'),\n",
       " ('y', 'y')]"
      ]
     },
     "execution_count": 37,
     "metadata": {},
     "output_type": "execute_result"
    }
   ],
   "source": [
    "#Variation of green, blue and yellow  with repetition.\n",
    "box_2 = ['g','b','y']\n",
    "perm=[]\n",
    "for p in itertools.product(box_2, repeat=2):\n",
    "    perm.append(p)\n",
    "    \n",
    "perm"
   ]
  },
  {
   "cell_type": "markdown",
   "id": "b99b6a69",
   "metadata": {},
   "source": [
    "Without repetitin: the same reasoning holds if there are no repetitions\n",
    "\n",
    "Indeed : In that case, we have\n",
    "\n",
    "V(n.k)=n!/(n-k)!"
   ]
  },
  {
   "cell_type": "code",
   "execution_count": 28,
   "id": "8a9942a5",
   "metadata": {},
   "outputs": [
    {
     "name": "stdout",
     "output_type": "stream",
     "text": [
      "('g', 'b')\n",
      "('g', 'y')\n",
      "('b', 'g')\n",
      "('b', 'y')\n",
      "('y', 'g')\n",
      "('y', 'b')\n"
     ]
    }
   ],
   "source": [
    "#Variation of green, blue and yellow  without repetition.\n",
    "box_2=['g','b','y']\n",
    "perm = itertools.permutations(box_2,2)\n",
    "\n",
    "for i in list(perm):\n",
    "    print(i)"
   ]
  },
  {
   "cell_type": "markdown",
   "id": "c767a65f",
   "metadata": {},
   "source": [
    "# Combinations"
   ]
  },
  {
   "cell_type": "markdown",
   "id": "e8b16467",
   "metadata": {},
   "source": [
    "Eaxmining separately the two cases of repetition and no repetition\n",
    "\n",
    "With repetition:\n",
    "the number of possible combinations (with repetition) is given by:\n",
    "\n",
    "C(n,k)= (n+k-1)! / k!(n-1)!"
   ]
  },
  {
   "cell_type": "code",
   "execution_count": 29,
   "id": "d9cb39dd",
   "metadata": {},
   "outputs": [
    {
     "name": "stdout",
     "output_type": "stream",
     "text": [
      "('g', 'g')\n",
      "('g', 'b')\n",
      "('b', 'b')\n"
     ]
    }
   ],
   "source": [
    "#Combination of green and blue with repetition\n",
    "from itertools import combinations_with_replacement\n",
    "\n",
    "box_1 = ['g','b']\n",
    "comb= combinations_with_replacement(box_1,2)\n",
    "\n",
    "for i in list(comb):\n",
    "    print(i)"
   ]
  },
  {
   "cell_type": "code",
   "execution_count": 30,
   "id": "fab9e9f5",
   "metadata": {},
   "outputs": [
    {
     "name": "stdout",
     "output_type": "stream",
     "text": [
      "('g', 'g')\n",
      "('g', 'b')\n",
      "('g', 'y')\n",
      "('g', 'w')\n",
      "('b', 'b')\n",
      "('b', 'y')\n",
      "('b', 'w')\n",
      "('y', 'y')\n",
      "('y', 'w')\n",
      "('w', 'w')\n"
     ]
    }
   ],
   "source": [
    "#Combination of green ,blue ,yellow and white with repetition of 2 element.\n",
    "from itertools import combinations_with_replacement\n",
    "\n",
    "box_1 = ['g','b','y','w']\n",
    "comb = combinations_with_replacement(box_1,2)\n",
    "\n",
    "for i in list(comb):\n",
    "    print(i)"
   ]
  },
  {
   "cell_type": "markdown",
   "id": "3f884601",
   "metadata": {},
   "source": [
    "Combination Without repetition:\n",
    "\n",
    "The number of possiblecombinations (without repetition) is given by:\n",
    "\n",
    "C(n,k) = n! / k!(n-k)!"
   ]
  },
  {
   "cell_type": "code",
   "execution_count": 31,
   "id": "80a8729a",
   "metadata": {},
   "outputs": [
    {
     "name": "stdout",
     "output_type": "stream",
     "text": [
      "('b', 'g')\n"
     ]
    }
   ],
   "source": [
    "#Combination of green and blue without repetition\n",
    "from itertools import combinations\n",
    "box_1=['b','g']\n",
    "comb = combinations(box_1,2)\n",
    "\n",
    "for i in list(comb):\n",
    "    print(i)"
   ]
  },
  {
   "cell_type": "code",
   "execution_count": 32,
   "id": "28a6b106",
   "metadata": {},
   "outputs": [
    {
     "name": "stdout",
     "output_type": "stream",
     "text": [
      "('b', 'g')\n"
     ]
    }
   ],
   "source": [
    "#Combination of green ,yellow and blue without repetition\n",
    "from itertools import combinations\n",
    "box_2 = ['b','g','y']\n",
    "comb = combinations(box_1,2)\n",
    "\n",
    "for i in list(comb):\n",
    "    print(i)"
   ]
  }
 ],
 "metadata": {
  "kernelspec": {
   "display_name": "Python 3",
   "language": "python",
   "name": "python3"
  },
  "language_info": {
   "codemirror_mode": {
    "name": "ipython",
    "version": 3
   },
   "file_extension": ".py",
   "mimetype": "text/x-python",
   "name": "python",
   "nbconvert_exporter": "python",
   "pygments_lexer": "ipython3",
   "version": "3.8.8"
  }
 },
 "nbformat": 4,
 "nbformat_minor": 5
}
